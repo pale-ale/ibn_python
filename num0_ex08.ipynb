{
 "cells": [
  {
   "cell_type": "markdown",
   "metadata": {},
   "source": [
    "| Übungszettel 8 | Einführung in die Numerik |\n",
    "|---|---|\n",
    "| Dozent      | Prof. Kanschat |\n",
    "| Tutoren     | S. Meggendorfer und J. Witte |\n",
    "| Abgabe      | bis 17.06.21 23.15 Uhr |\n",
    "| Studierende | Alexander Baucke, Lennart Walter, Rodulf Braun |"
   ]
  },
  {
   "cell_type": "markdown",
   "metadata": {},
   "source": [
    "\n",
    "---\n",
    "\n",
    "### Aufgabe 1: Summierte Quadratur\n",
    "\n",
    "Schreiben Sie eine Funktion, die die Funktion $f(x) = \\sin(\\pi x)$ über das Intervall $[0,1]$ mit der iterierten Trapezregel integriert. Geben Sie den approximierten Integralwert, sowie den Fehler für verschiedene Schrittweiten $h= 1,\\tfrac12,\\tfrac14,\\tfrac18,...$ aus.\n",
    "\n",
    "### Aufgabe 2: Romberg-Quadratur\n",
    "\n",
    "Wenden Sie die Romberg-Quadratur mit der Schrittfolge $h= 1,\\tfrac12,\\tfrac14,\\tfrac18,...$\n",
    "auf die iterierte Trapezregel aus Aufgabe 1 an und beobachten Sie die Konvergenz gegen den exakten Integralwert $\\frac{2}{\\pi}$ für die verschiedenen Spalten im Tableau des Neville-Algorithmus. Lassen Sie sich auch hierfür wieder den Fehler ausgeben und vergleichen Sie den Aufwand der Romberg-Quadratur mit der iterierten Trapezregel.\n",
    "\n",
    "### Bonus: Konvergenzraten\n",
    "\n",
    "Die Konvergenzrate $p$ eines numerischen Verfahrens, dessen Fehler $e(h)$ eine Abschätzung $e(h)= ch^p + o(h^p)$ erlaubt, kann experimentell bestimmt werden mit der Formel\n",
    "$$p \\approx \\log_2(e(h)) - log_2(e({\\tfrac{h}2})).$$\n",
    "Berechnen Sie mit dieser Formel die Konvergenzraten im Tableau des Neville-Algorithmus aus Aufgabe 2.\n",
    "\n",
    "**Hinweis:** Der Logarithmus zur Basis 2 lässt sich in numpy mit dem Befehl `np.log2()` berechnen."
   ]
  },
  {
   "cell_type": "markdown",
   "metadata": {},
   "source": [
    "---"
   ]
  },
  {
   "cell_type": "code",
   "execution_count": 1,
   "metadata": {},
   "outputs": [
    {
     "output_type": "stream",
     "name": "stdout",
     "text": [
      "Ideal: 0.6366197723675814\n",
      "Steps: 1 \tValue: 6.123233995736766e-17 \tError: 0.6366197723675813\n",
      "Steps: 2 \tValue: 0.5 \tError: 0.13661977236758138\n",
      "Steps: 3 \tValue: 0.5773502691896257 \tError: 0.05926950317795565\n",
      "Steps: 4 \tValue: 0.6035533905932737 \tError: 0.03306638177430765\n",
      "Steps: 5 \tValue: 0.6155367074350507 \tError: 0.02108306493253065\n",
      "Steps: 6 \tValue: 0.6220084679281462 \tError: 0.014611304439435147\n",
      "Steps: 7 \tValue: 0.6258980382192605 \tError: 0.010721734148320894\n",
      "Steps: 8 \tValue: 0.628417436515731 \tError: 0.008202335851850373\n",
      "Steps: 9 \tValue: 0.6301424244019679 \tError: 0.0064773479656135\n",
      "Steps: 10 \tValue: 0.6313751514675043 \tError: 0.005244620900077046\n",
      "Steps: 11 \tValue: 0.6322866156157704 \tError: 0.004333156751811007\n",
      "Steps: 12 \tValue: 0.6329795093937625 \tError: 0.0036402629738189196\n",
      "Steps: 13 \tValue: 0.6335185349614225 \tError: 0.0031012374061588632\n",
      "Steps: 14 \tValue: 0.6339461053549827 \tError: 0.002673667012598635\n",
      "Steps: 15 \tValue: 0.634290963614839 \tError: 0.0023288087527423285\n",
      "Steps: 16 \tValue: 0.6345731492255539 \tError: 0.002046623142027526\n",
      "Steps: 17 \tValue: 0.6348069798389168 \tError: 0.0018127925286646196\n",
      "Steps: 18 \tValue: 0.6350029057089636 \tError: 0.0016168666586178215\n",
      "Steps: 19 \tValue: 0.6351686989209344 \tError: 0.0014510734466469666\n",
      "====================\n",
      "Steps: 1 \tValue: 0.6666666666666666 \tError: 0.030046894299085247\n",
      "Steps: 2 \tValue: 0.6361648221771005 \tError: 0.00045495019048091834\n",
      "Steps: 3 \tValue: 0.6366215389809788 \tError: 1.7666133974580944e-06\n",
      "Steps: 4 \tValue: 0.6366197706446624 \tError: 1.7229190296674801e-09\n",
      "Steps: 5 \tValue: 0.6366197723680019 \tError: 4.205524817280093e-13\n",
      "Steps: 6 \tValue: 0.6366197723675812 \tError: 2.220446049250313e-16\n",
      "Steps: 7 \tValue: 0.6366197723675813 \tError: 1.1102230246251565e-16\n",
      "Steps: 8 \tValue: 0.6366197723675812 \tError: 2.220446049250313e-16\n",
      "Steps: 9 \tValue: 0.6366197723675814 \tError: 0.0\n",
      "Steps: 10 \tValue: 0.6366197723675812 \tError: 2.220446049250313e-16\n",
      "Steps: 11 \tValue: 0.6366197723675806 \tError: 7.771561172376096e-16\n",
      "Steps: 12 \tValue: 0.6366197723675819 \tError: 5.551115123125783e-16\n",
      "Steps: 13 \tValue: 0.6366197723675815 \tError: 1.1102230246251565e-16\n",
      "Steps: 14 \tValue: 0.6366197723675823 \tError: 8.881784197001252e-16\n",
      "Steps: 15 \tValue: 0.6366197723675826 \tError: 1.2212453270876722e-15\n",
      "Steps: 16 \tValue: 0.6366197723675813 \tError: 1.1102230246251565e-16\n",
      "Steps: 17 \tValue: 0.6366197723675824 \tError: 9.992007221626409e-16\n",
      "Steps: 18 \tValue: 0.6366197723675728 \tError: 8.548717289613705e-15\n",
      "Steps: 19 \tValue: 0.6366197723675862 \tError: 4.773959005888173e-15\n"
     ]
    }
   ],
   "source": [
    "import math\n",
    "import numpy as np\n",
    "\n",
    "l = 0\n",
    "r = 1\n",
    "\n",
    "def f(x):\n",
    "    return math.sin(math.pi*x)\n",
    "\n",
    "def F(x):\n",
    "    return -math.cos(math.pi*x)/math.pi\n",
    "\n",
    "def trapez_integral(func, l:float, r:float, count:int):\n",
    "    h = (r-l)/(count)\n",
    "    ysum = 0\n",
    "    xvals = np.linspace(l, r, count+1)\n",
    "    yvals = [func(x) for x in xvals]\n",
    "    for i in range(0,len(xvals)-1):\n",
    "        yl = yvals[i]\n",
    "        yr = yvals[i+1]\n",
    "        ysum += yl + yr\n",
    "    return ysum * h * .5\n",
    "\n",
    "def romberg(func, l:float, r:float, count:int):\n",
    "    result = []\n",
    "    h = (r-l)\n",
    "    result.append([(h/2.0)*(func(l)+func(r))])\n",
    "    for i in range(1,count+1):\n",
    "        h = h/2.\n",
    "        sum = 0\n",
    "        for k in range(1,2**i ,2):\n",
    "            sum = sum + func(l+k*h)\n",
    "        rowi = [0.5*result[i-1][0] + sum*h]\n",
    "        for j in range(1,i+1):\n",
    "            rij = rowi[j-1] + (rowi[j-1]-result[i-1][j-1])/(4.**j-1.)\n",
    "            rowi.append(rij)\n",
    "        result.append(rowi)\n",
    "    return result\n",
    "\n",
    "ideal = F(1) - F(0)\n",
    "print(\"Ideal:\", ideal)\n",
    "\n",
    "for n in range(1,20):\n",
    "    integral = trapez_integral(f, l, r, n)\n",
    "    print(\"Steps:\", n, \"\\tValue:\", integral, \"\\tError:\", abs(ideal - integral))\n",
    "print(\"=\"*20)\n",
    "for n in range(1,20):\n",
    "    integral = romberg(f, l, r, n)[-1][-1]\n",
    "    print(\"Steps:\", n, \"\\tValue:\", integral, \"\\tError:\", abs(ideal - integral))\n",
    "\n",
    "#Aufwand ist merklich höher bei Romberg, da schon bei kleinen Zahlen die Rechenzeit merklich ansteigt.\n"
   ]
  },
  {
   "cell_type": "code",
   "execution_count": null,
   "metadata": {},
   "outputs": [],
   "source": []
  }
 ],
 "metadata": {
  "kernelspec": {
   "display_name": "Python 3",
   "language": "python",
   "name": "python3"
  },
  "language_info": {
   "codemirror_mode": {
    "name": "ipython",
    "version": 3
   },
   "file_extension": ".py",
   "mimetype": "text/x-python",
   "name": "python",
   "nbconvert_exporter": "python",
   "pygments_lexer": "ipython3",
   "version": "3.8.5"
  }
 },
 "nbformat": 4,
 "nbformat_minor": 4
}