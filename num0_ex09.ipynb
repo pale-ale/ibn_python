{
 "cells": [
  {
   "cell_type": "markdown",
   "id": "ce251ff8",
   "metadata": {},
   "source": [
    "| Übungszettel 9 | Einführung in die Numerik |\n",
    "|---|---|\n",
    "| Dozent      | Prof. Kanschat |\n",
    "| Tutoren     | S. Meggendorfer und J. Witte |\n",
    "| Abgabe      | bis 24.06.21 23.15 Uhr |\n",
    "| Studierende | Alexander Baucke, Lennart Walter, Rudolf Braun |"
   ]
  },
  {
   "cell_type": "markdown",
   "id": "f0522112",
   "metadata": {},
   "source": [
    "---\n",
    "\n",
    "### Aufgabe 1: Newton-Verfahren\n",
    "\n",
    "- Implementieren Sie das Newton-Verfahren für eindimensionale Funktionen $f:\\mathbb{R}\\to\\mathbb{R}$, definiert durch die Iterationsvorschrift\n",
    "$$\n",
    "x_0\\in\\mathbb{R},\n",
    "\\qquad\n",
    "x_n = x_{n-1} - \\frac{f(x_{n-1})}{f'(x_{n-1})}.\n",
    "$$\n",
    "Nutzen Sie als Abbruch-Kriterium, wenn der Betrag des Residuums $\\left|f(x_n)\\right|$ kleiner als die vorgegebene Toleranz `TOL=1.e-8` wird. Zusätzlich soll das Programm abbrechen, falls eine vorgegebene maximale Anzahl von 100 Schritten erreicht wird. Lassen Sie sich in jedem Schritt das Residuum $|f(x_n)|$, sowie die Differenz $|x_n-x_{n-1}|$ ausgeben.\n",
    "\n",
    "- Wenden Sie das Newton-Verfahren auf die Funktion $f(x) = \\arctan(x)$ an. Wählen Sie hierzu nacheinander die Startwerte $x_0=1$, $x_0=2$, sowie $x_0=1.391745200270735$."
   ]
  },
  {
   "cell_type": "code",
   "execution_count": null,
   "id": "1855425f",
   "metadata": {},
   "outputs": [],
   "source": [
    "from types import FunctionType\n",
    "import numpy as np\n",
    "import matplotlib as plt\n",
    "\n",
    "def newton_verfahren(f:\"FunctionType[int]\", deriv_f:\"FunctionType[int]\", x_0:float):\n",
    "    last = x_0\n",
    "    while True:\n",
    "        diff = abs(x_0 - last)\n",
    "        x_0 = x_0 - f(x_0)/deriv_f(x_0)\n",
    "        residuum = abs(f(x_0))\n",
    "        yield residuum, diff\n",
    "\n",
    "def f(x):\n",
    "    return np.math.atan(x)\n",
    "\n",
    "def deriv_f(x):\n",
    "    return 1/(1 + x**2.0)\n",
    "\n",
    "X0, X2, X3 = (1,2,1.391745200270735)\n",
    "TOL = 1.e-8\n",
    "gen = newton_verfahren(f, deriv_f, X3)\n",
    "residuum, diff = gen.__next__()\n",
    "iter = 0\n",
    "while iter < 100 and residuum > TOL:\n",
    "    print(f\"residuum: {residuum:06.15f}   [@]   diff: {diff:06.15f}\")\n",
    "    iter += 1\n",
    "    residuum, diff = gen.__next__()\n",
    "\n",
    "print(\"=>\", residuum)\n",
    "\n"
   ]
  }
 ],
 "metadata": {
  "kernelspec": {
   "display_name": "Python 3",
   "language": "python",
   "name": "python3"
  },
  "language_info": {
   "codemirror_mode": {
    "name": "ipython",
    "version": 3
   },
   "file_extension": ".py",
   "mimetype": "text/x-python",
   "name": "python",
   "nbconvert_exporter": "python",
   "pygments_lexer": "ipython3",
   "version": "3.7.3"
  }
 },
 "nbformat": 4,
 "nbformat_minor": 5
}