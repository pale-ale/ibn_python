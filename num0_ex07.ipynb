{
 "cells": [
  {
   "cell_type": "markdown",
   "id": "32f95302",
   "metadata": {},
   "source": [
    "| Übungszettel 7 | Einführung in die Numerik |\n",
    "|---|---|\n",
    "| Dozent      | Prof. Kanschat |\n",
    "| Tutoren     | S. Meggendorfer und J. Witte |\n",
    "| Abgabe      | bis 03.06.21 23.15 Uhr |\n",
    "| Studierende | *bitte Vor- und Nachnamen einfügen* |"
   ]
  },
  {
   "cell_type": "markdown",
   "id": "fa659c0f-7ff9-4cbe-a84e-6f7ba75a574c",
   "metadata": {},
   "source": [
    "---\n",
    "\n",
    "### Aufgabe 1: Ebene Kurve\n",
    "\n",
    "Für $\\alpha = 1$ und $\\kappa = 2$ lässt sich eine [blumenförmige, ebene Kurve](https://de.wikipedia.org/wiki/Rosette_(Kurve)) darstellen durch\n",
    "\n",
    "$$\n",
    "X(t) = \\alpha \\cos(\\kappa t) \\cos(t), \\\\\n",
    "Y(t) = \\alpha \\cos(\\kappa t) \\sin(t). \\\\\n",
    "$$\n",
    "\n",
    "Die Kurve ist periodisch bezüglich $2\\pi$.\n",
    "\n",
    "1. Berechnen Sie für (äquidistante) Stützstellen der Parametrisierung $t_0 = 0 < t_1 < \\ldots < t_n = 2\\pi$ mit $n > 7$ sowohl eine kubische Spline-Interpolation für $X(t)$ als auch für $Y(t)$. Dazu passen Sie lediglich die Funktion `solve_moments(...)` vom Übungsblatt 6 an, indem Sie die natürlichen Randbedingungen dort,\n",
    "$$\n",
    "2 M_0 = 0 , \\\\\n",
    "2 M_n = 0 ,\n",
    "$$\n",
    "durch periodische Randbedingungen hier,\n",
    "$$\n",
    "M_0 = M_n, \\\\\n",
    "\\frac{h_n}{h_n + h_1} M_{n-1} + 2 M_n + \\frac{h_1}{h_n + h_1} M_1\n",
    "=\n",
    "\\frac{6}{h_n + h_1} \\left[ \\frac{f_1-f_n}{h_1} - \\frac{f_n-f_{n-1}}{h_n} \\right] ,\n",
    "$$\n",
    "für das lineare Gleichungssystem aus *Lemma 3.2.14* ersetzen.\n",
    "\n",
    "2. Variieren Sie $n > 7$ und plotten Sie jeweils die Kurve $(X(t),Y(t))$ sowie die erhaltene Spline-Interpolierende."
   ]
  },
  {
   "cell_type": "code",
   "execution_count": null,
   "id": "6cb734e2-0516-41a9-bcd8-82ea22aea2f6",
   "metadata": {},
   "outputs": [],
   "source": [
    "import numpy as np\n",
    "import matplotlib\n",
    "import matplotlib.pyplot as plt\n",
    "\n",
    "n = 8\n",
    "a = 0.\n",
    "b = 2.*np.pi\n",
    "\n",
    "ALPHA = 1.\n",
    "KAPPA = 2"
   ]
  },
  {
   "cell_type": "markdown",
   "id": "a84b2c91-c9e4-4273-a18d-a6567defe74f",
   "metadata": {},
   "source": [
    "---"
   ]
  },
  {
   "cell_type": "code",
   "execution_count": null,
   "id": "b260a545-d98e-4083-a78f-7f0155007945",
   "metadata": {},
   "outputs": [],
   "source": [
    "# bitte ergänzen"
   ]
  }
 ],
 "metadata": {
  "kernelspec": {
   "display_name": "Python 3",
   "language": "python",
   "name": "python3"
  },
  "language_info": {
   "codemirror_mode": {
    "name": "ipython",
    "version": 3
   },
   "file_extension": ".py",
   "mimetype": "text/x-python",
   "name": "python",
   "nbconvert_exporter": "python",
   "pygments_lexer": "ipython3",
   "version": "3.6.9"
  }
 },
 "nbformat": 4,
 "nbformat_minor": 5
}
