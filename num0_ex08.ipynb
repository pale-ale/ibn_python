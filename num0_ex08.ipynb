{
 "cells": [
  {
   "cell_type": "markdown",
   "metadata": {},
   "source": [
    "| Übungszettel 8 | Einführung in die Numerik |\n",
    "|---|---|\n",
    "| Dozent      | Prof. Kanschat |\n",
    "| Tutoren     | S. Meggendorfer und J. Witte |\n",
    "| Abgabe      | bis 17.06.21 23.15 Uhr |\n",
    "| Studierende | Alexander Baucke, Lennart Walter, Rodulf Braun |"
   ]
  },
  {
   "cell_type": "markdown",
   "metadata": {},
   "source": [
    "\n",
    "---\n",
    "\n",
    "### Aufgabe 1: Summierte Quadratur\n",
    "\n",
    "Schreiben Sie eine Funktion, die die Funktion $f(x) = \\sin(\\pi x)$ über das Intervall $[0,1]$ mit der iterierten Trapezregel integriert. Geben Sie den approximierten Integralwert, sowie den Fehler für verschiedene Schrittweiten $h= 1,\\tfrac12,\\tfrac14,\\tfrac18,...$ aus.\n",
    "\n",
    "### Aufgabe 2: Romberg-Quadratur\n",
    "\n",
    "Wenden Sie die Romberg-Quadratur mit der Schrittfolge $h= 1,\\tfrac12,\\tfrac14,\\tfrac18,...$\n",
    "auf die iterierte Trapezregel aus Aufgabe 1 an und beobachten Sie die Konvergenz gegen den exakten Integralwert $\\frac{2}{\\pi}$ für die verschiedenen Spalten im Tableau des Neville-Algorithmus. Lassen Sie sich auch hierfür wieder den Fehler ausgeben und vergleichen Sie den Aufwand der Romberg-Quadratur mit der iterierten Trapezregel.\n",
    "\n",
    "### Bonus: Konvergenzraten\n",
    "\n",
    "Die Konvergenzrate $p$ eines numerischen Verfahrens, dessen Fehler $e(h)$ eine Abschätzung $e(h)= ch^p + o(h^p)$ erlaubt, kann experimentell bestimmt werden mit der Formel\n",
    "$$p \\approx \\log_2(e(h)) - log_2(e({\\tfrac{h}2})).$$\n",
    "Berechnen Sie mit dieser Formel die Konvergenzraten im Tableau des Neville-Algorithmus aus Aufgabe 2.\n",
    "\n",
    "**Hinweis:** Der Logarithmus zur Basis 2 lässt sich in numpy mit dem Befehl `np.log2()` berechnen."
   ]
  },
  {
   "cell_type": "code",
   "execution_count": null,
   "metadata": {},
   "outputs": [],
   "source": [
    "import numpy as np"
   ]
  },
  {
   "cell_type": "markdown",
   "metadata": {},
   "source": [
    "---"
   ]
  },
  {
   "cell_type": "code",
   "execution_count": null,
   "metadata": {},
   "outputs": [],
   "source": [
    "# bitte ergänzen"
   ]
  },
  {
   "cell_type": "code",
   "execution_count": null,
   "metadata": {},
   "outputs": [],
   "source": []
  }
 ],
 "metadata": {
  "kernelspec": {
   "display_name": "Python 3",
   "language": "python",
   "name": "python3"
  },
  "language_info": {
   "codemirror_mode": {
    "name": "ipython",
    "version": 3
   },
   "file_extension": ".py",
   "mimetype": "text/x-python",
   "name": "python",
   "nbconvert_exporter": "python",
   "pygments_lexer": "ipython3",
   "version": "3.7.3"
  }
 },
 "nbformat": 4,
 "nbformat_minor": 4
}